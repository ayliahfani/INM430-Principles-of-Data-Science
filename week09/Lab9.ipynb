{
 "cells": [
  {
   "cell_type": "markdown",
   "metadata": {},
   "source": [
    "# Lab 9: Networks\n",
    "## Exercise 1: Analysis of Networks with NetworkX"
   ]
  },
  {
   "cell_type": "code",
   "execution_count": 95,
   "metadata": {},
   "outputs": [],
   "source": [
    "import networkx as nx\n",
    "import matplotlib as plt\n",
    "import numpy as np"
   ]
  },
  {
   "cell_type": "markdown",
   "metadata": {},
   "source": [
    "#### create a new empty graph"
   ]
  },
  {
   "cell_type": "code",
   "execution_count": 30,
   "metadata": {},
   "outputs": [],
   "source": [
    "G = nx.Graph()"
   ]
  },
  {
   "cell_type": "markdown",
   "metadata": {},
   "source": [
    "#### use networkX by adding nodes and edges"
   ]
  },
  {
   "cell_type": "code",
   "execution_count": 66,
   "metadata": {},
   "outputs": [],
   "source": [
    "G.add_nodes_from(['A','B','C', 'D', 'E', 'F', 'G', 'H'])\n",
    "G.add_edges_from([('A','B'), ('A','C'),('B','C'), ('C','E'), ('C','D'),('D','F'), ('F','G'),('F','H')])"
   ]
  },
  {
   "cell_type": "markdown",
   "metadata": {},
   "source": [
    "#### Use NetworkX's centrality measures listed here to:\n",
    "* Find the node with highest degree centrality.\n",
    "* Find the node with highest betweenness centrality.\n",
    "* Add some weights to the edges and find the betweenness centrality once more but this time give the edge weights as parameters. Notice how things change."
   ]
  },
  {
   "cell_type": "code",
   "execution_count": 60,
   "metadata": {},
   "outputs": [
    {
     "name": "stdout",
     "output_type": "stream",
     "text": [
      "the node with the highest centrality is: C\n",
      "the node with the highest betweenness centrality is: C\n"
     ]
    }
   ],
   "source": [
    "# node with the highest centrality\n",
    "centrality = nx.degree_centrality(G)\n",
    "print('the node with the highest centrality is: ' +str(max(centrality, key=centrality.get)))\n",
    "\n",
    "#the node with the highest betweenness centrality\n",
    "betweenness = nx.betweenness_centrality(G)\n",
    "print('the node with the highest betweenness centrality is: ' +str(max(betweenness, key=betweenness.get)))\n"
   ]
  },
  {
   "cell_type": "markdown",
   "metadata": {},
   "source": [
    "#### Draw the graph. Firstly, lay out the graph and store the node positions in positions"
   ]
  },
  {
   "cell_type": "code",
   "execution_count": 78,
   "metadata": {},
   "outputs": [
    {
     "data": {
      "text/plain": [
       "{'A': Text(0.5384454491049242, 0.7222038283366333, 'A'),\n",
       " 'B': Text(0.6497614470174209, 0.469158499582468, 'B'),\n",
       " 'C': Text(0.23183205337027613, 0.4233664840971368, 'C'),\n",
       " 'D': Text(-0.059880354933421205, -0.0865407354859106, 'D'),\n",
       " 'E': Text(-0.016705941280146405, 0.789118885149373, 'E'),\n",
       " 'F': Text(-0.3369507138418154, -0.5748197651663344, 'F'),\n",
       " 'G': Text(-0.26992289345834175, -1.0, 'G'),\n",
       " 'H': Text(-0.7365790459788965, -0.7424871965133658, 'H')}"
      ]
     },
     "execution_count": 78,
     "metadata": {},
     "output_type": "execute_result"
    },
    {
     "data": {
      "image/png": "[encoded data removed]",
      "text/plain": [
       "<Figure size 432x288 with 1 Axes>"
      ]
     },
     "metadata": {},
     "output_type": "display_data"
    }
   ],
   "source": [
    "positions=nx.spring_layout(G)\n",
    "nx.draw(G,pos=positions)\n",
    "nx.draw_networkx_labels(G,pos=positions)"
   ]
  },
  {
   "cell_type": "markdown",
   "metadata": {},
   "source": [
    "### Now we will load a graph of coauthorship data load the data from the GraphML file"
   ]
  },
  {
   "cell_type": "code",
   "execution_count": 143,
   "metadata": {},
   "outputs": [
    {
     "name": "stdout",
     "output_type": "stream",
     "text": [
      "the number of connected components is: 396\n",
      "the most central author is: 78.0\n",
      "the average clustering coefficient is: 0.6377905695067805\n"
     ]
    }
   ],
   "source": [
    "# load the GraphML file into the networkX graph\n",
    "coauthorshipG = nx.read_graphml('netScience.graphml.xml')\n",
    "\n",
    "# find the connected components and find how many there are\n",
    "connected = nx.connected_components(coauthorshipG)\n",
    "number_connected = nx.number_connected_components(coauthorshipG)\n",
    "print('the number of connected components is: '+str(number_connected))\n",
    "\n",
    "# find the largest connected component subgraph\n",
    "\n",
    "\n",
    "\n",
    "\n",
    "# find the most central author\n",
    "central_author = nx.betweenness_centrality(coauthorshipG)\n",
    "print('the most central author is: ' +str(max(central_author, key=central_author.get)))\n",
    "\n",
    "# find the average clustering coefficient\n",
    "clustering = nx.clustering(coauthorshipG)\n",
    "avg = sum(clustering.values()) / len(clustering)\n",
    "print('the average clustering coefficient is: ' + str(avg))\n",
    "\n",
    "# find some tightly connected subgraphs and draw them\n",
    "\n",
    "# try drawing the whole graph"
   ]
  },
  {
   "cell_type": "markdown",
   "metadata": {},
   "source": [
    "## Exercise 2: Analysis of Les Misérables with NetworkX"
   ]
  },
  {
   "cell_type": "code",
   "execution_count": null,
   "metadata": {},
   "outputs": [],
   "source": []
  },
  {
   "cell_type": "code",
   "execution_count": null,
   "metadata": {},
   "outputs": [],
   "source": []
  }
 ],
 "metadata": {
  "kernelspec": {
   "display_name": "Python 3",
   "language": "python",
   "name": "python3"
  },
  "language_info": {
   "codemirror_mode": {
    "name": "ipython",
    "version": 3
   },
   "file_extension": ".py",
   "mimetype": "text/x-python",
   "name": "python",
   "nbconvert_exporter": "python",
   "pygments_lexer": "ipython3",
   "version": "3.8.2"
  }
 },
 "nbformat": 4,
 "nbformat_minor": 4
}
